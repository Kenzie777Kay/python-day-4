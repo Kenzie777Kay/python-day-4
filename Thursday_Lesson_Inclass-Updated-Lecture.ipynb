{
 "cells": [
  {
   "cell_type": "markdown",
   "metadata": {},
   "source": [
    "# Object-Oriented-Programming (OOP)"
   ]
  },
  {
   "cell_type": "markdown",
   "metadata": {},
   "source": [
    "## Tasks Today:\n",
    "\n",
    "   \n",
    "\n",
    "1) <b>Creating a Class (Initializing/Declaring)</b> <br>\n",
    "2) <b>Using a Class (Instantiating)</b> <br>\n",
    " &nbsp;&nbsp;&nbsp;&nbsp; a) Creating One Instance <br>\n",
    " &nbsp;&nbsp;&nbsp;&nbsp; b) Creating Multiple Instances <br>\n",
    " &nbsp;&nbsp;&nbsp;&nbsp; c) In-Class Exercise #1 - Create a Class 'Car' and instantiate three different makes of cars <br>\n",
    "3) <b>The \\__init\\__() Method</b> <br>\n",
    " &nbsp;&nbsp;&nbsp;&nbsp; a) The 'self' Attribute <br>\n",
    "4) <b>Class Attributes</b> <br>\n",
    " &nbsp;&nbsp;&nbsp;&nbsp; a) Initializing Attributes <br>\n",
    " &nbsp;&nbsp;&nbsp;&nbsp; b) Setting an Attribute Outside of the \\__init\\__() Method <br>\n",
    " &nbsp;&nbsp;&nbsp;&nbsp; c) Setting Defaults for Attributes <br>\n",
    " &nbsp;&nbsp;&nbsp;&nbsp; d) Accessing Class Attributes <br>\n",
    " &nbsp;&nbsp;&nbsp;&nbsp; e) Changing Class Attributes <br>\n",
    " &nbsp;&nbsp;&nbsp;&nbsp; f) In-Class Exercise #2 - Add a color and wheels attribute to your 'Car' class <br>\n",
    "5) <b>Class Methods</b> <br>\n",
    " &nbsp;&nbsp;&nbsp;&nbsp; a) Creating <br>\n",
    " &nbsp;&nbsp;&nbsp;&nbsp; b) Calling <br>\n",
    " &nbsp;&nbsp;&nbsp;&nbsp; c) Modifying an Attribute's Value Through a Method <br>\n",
    " &nbsp;&nbsp;&nbsp;&nbsp; d) Incrementing an Attribute's Value Through a Method <br>\n",
    " &nbsp;&nbsp;&nbsp;&nbsp; e) In-Class Exercise #3 - Add a method that prints the cars color and wheel number, then call them <br>\n",
    "6) <b>Inheritance</b> <br>\n",
    " &nbsp;&nbsp;&nbsp;&nbsp; a) Syntax for Inheriting from a Parent Class <br>\n",
    " &nbsp;&nbsp;&nbsp;&nbsp; b) The \\__init\\__() Method for a Child Class (super()) <br>\n",
    " &nbsp;&nbsp;&nbsp;&nbsp; c) Defining Attributes and Methods for the Child Class <br>\n",
    " &nbsp;&nbsp;&nbsp;&nbsp; d) Method Overriding <br>\n",
    " &nbsp;&nbsp;&nbsp;&nbsp; e) In-Class Exercise #4 - Create a class 'Ford' that inherits from 'Car' class and initialize it as a Blue Ford Explorer with 4 wheels using the super() method <br>\n",
    "7) <b>Classes as Attributes</b> <br>\n",
    "8) <b>Exercises</b> <br>\n",
    " &nbsp;&nbsp;&nbsp;&nbsp; a) Exercise #1 - Turn the shopping cart program from yesterday into an object-oriented program <br>"
   ]
  },
  {
   "cell_type": "code",
   "execution_count": null,
   "metadata": {},
   "outputs": [],
   "source": [
    "from IPython.display import clear_output\n",
    "\n",
    "cart = []\n",
    "\n",
    "# Add to cart function\n",
    "def addItem(item):\n",
    "    clear_output()\n",
    "    cart.append(item)\n",
    "    \n",
    "# Remove From Cart\n",
    "def removeItem(item):\n",
    "    clear_output()\n",
    "    cart.remove(item)\n",
    "    \n",
    "# Show Cart Function\n",
    "def showCart():\n",
    "    clear_output()\n",
    "    print(\"Here is your cart... \")\n",
    "    for item in cart:\n",
    "        print(item)\n",
    "# Clear Cart\n",
    "def clearCart():\n",
    "    clear_output()\n",
    "    print(\"Your cart is now emtpy... \")\n",
    "    cart.clear()\n",
    "    \n",
    "def shoppingCart():\n",
    "    while True:\n",
    "        response = input(\"You can: quit / add / remove / show / or clear\")\n",
    "        \n",
    "        if response.lower() == 'quit':\n",
    "            print(\"Thanks for shopping here's your cart\")\n",
    "            showCart()\n",
    "            break\n",
    "        elif response.lower() == 'add':\n",
    "            item = input('What would you like to add?')\n",
    "            addItem(item)\n",
    "        elif response.lower() == 'remove':\n",
    "            showCart()\n",
    "            item = input('What item do you want to remove?')\n",
    "            removeItem(item)\n",
    "        elif response.lower() == 'show':\n",
    "            showCart()\n",
    "        elif response.lower() == 'clear':\n",
    "            clearCart()\n",
    "        else:\n",
    "            print(\"Sorry not a valid response - Please choose add/remove/clear/show or quit\")\n",
    "            \n",
    "shoppingCart()"
   ]
  },
  {
   "cell_type": "code",
   "execution_count": null,
   "metadata": {},
   "outputs": [],
   "source": [
    "# Circumfrance of a cirle\n"
   ]
  },
  {
   "cell_type": "markdown",
   "metadata": {},
   "source": [
    "## Creating a Class (Initializing/Declaring)\n",
    "<p>When creating a class, function, or even a variable you are initializing that object. Initializing and Declaring occur at the same time in Python, whereas in lower level languages you have to declare an object before initializing it. This is the first step in the process of using a class.</p>"
   ]
  },
  {
   "cell_type": "code",
   "execution_count": 2,
   "metadata": {},
   "outputs": [],
   "source": [
    "class Car():\n",
    "    wheels = 4\n",
    "    color = 'blue'\n",
    "    windshield_wipers = 'wee woo wee woo'\n",
    "    \n",
    "    def headlights():\n",
    "        print('turn them on for safety, do not crash into a moose')\n",
    "        \n",
    "volkswagen = Car()\n",
    "volkswagen.headlights()"
   ]
  },
  {
   "cell_type": "markdown",
   "metadata": {},
   "source": [
    "## Using a Class (Instantiating)\n",
    "<p>The process of creating a class is called <i>Instantiating</i>. Each time you create a variable of that type of class, it is referred to as an <i>Instance</i> of that class. This is the second step in the process of using a class.</p>"
   ]
  },
  {
   "cell_type": "markdown",
   "metadata": {},
   "source": [
    "##### Creating One Instance"
   ]
  },
  {
   "cell_type": "code",
   "execution_count": 3,
   "metadata": {},
   "outputs": [
    {
     "data": {
      "text/plain": [
       "4"
      ]
     },
     "execution_count": 3,
     "metadata": {},
     "output_type": "execute_result"
    }
   ],
   "source": [
    "ford = Car()\n",
    "\n",
    "ford.wheels"
   ]
  },
  {
   "cell_type": "markdown",
   "metadata": {},
   "source": [
    "##### Creating Multiple Instances"
   ]
  },
  {
   "cell_type": "code",
   "execution_count": 5,
   "metadata": {},
   "outputs": [
    {
     "name": "stdout",
     "output_type": "stream",
     "text": [
      "<__main__.Car object at 0x000001E925946D60>\n"
     ]
    }
   ],
   "source": [
    "chevy = Car()\n",
    "honda = Car()\n",
    "porsche = Car()\n",
    "\n",
    "porsche.color\n",
    "print(Car())"
   ]
  },
  {
   "cell_type": "markdown",
   "metadata": {},
   "source": [
    "##### In-Class Exercise #1 - Create a Class 'Car' and Instantiate three different makes of cars"
   ]
  },
  {
   "cell_type": "code",
   "execution_count": 4,
   "metadata": {},
   "outputs": [
    {
     "name": "stdout",
     "output_type": "stream",
     "text": [
      "red True\n"
     ]
    }
   ],
   "source": [
    "# Add doors, a new color, wheels , and a sunroof\n",
    "\n",
    "# Output: Number of doors : 4, Color: 'red', Wheels: 4, sunroof: True\n",
    "\n",
    "class Car():\n",
    "    doors = 4\n",
    "    color = \"red\"\n",
    "    wheels = 4\n",
    "    sunRoof = True\n",
    "mazda = Car()\n",
    "ford = Car()\n",
    "honda = Car()\n",
    "\n",
    "print(mazda.color, mazda.sunRoof)"
   ]
  },
  {
   "cell_type": "markdown",
   "metadata": {},
   "source": [
    "## The \\__init\\__() Method <br>\n",
    "<p>This method is used in almost every created class, and called only once upon the creation of the class instance. This method will initialize all variables needed for the object.</p>"
   ]
  },
  {
   "cell_type": "code",
   "execution_count": 7,
   "metadata": {},
   "outputs": [
    {
     "name": "stdout",
     "output_type": "stream",
     "text": [
      "black\n"
     ]
    }
   ],
   "source": [
    "class Car():\n",
    "    engine = '4.7L' # Global within Class. any function or method inside the class can call this variable\n",
    "    \n",
    "    def __init__(self,color,wheels):\n",
    "        self.color = color\n",
    "        self.wheels = wheels\n",
    "        \n",
    "mazda = Car('black',4)\n",
    "\n",
    "print(mazda.color)\n",
    "    "
   ]
  },
  {
   "cell_type": "markdown",
   "metadata": {},
   "source": [
    "##### The 'self' Attribute <br>\n",
    "<p>This attribute is required to keep track of specific instance's attributes. Without the self attribute, the program would not know how to reference or keep track of an instance's attributes.</p>"
   ]
  },
  {
   "cell_type": "code",
   "execution_count": 5,
   "metadata": {},
   "outputs": [
    {
     "data": {
      "text/plain": [
       "' why on earth would you not want a rock climbing wall in your house?'"
      ]
     },
     "execution_count": 5,
     "metadata": {},
     "output_type": "execute_result"
    }
   ],
   "source": [
    "class House():\n",
    "    \n",
    "    def __init__ (self,wall,dishes):\n",
    "        self.wall = wall\n",
    "        self.dishes = dishes\n",
    "        \n",
    "    def washDishes(self):\n",
    "        if self.dishes.lower()== 'dirty':\n",
    "            return 'Clean'\n",
    "    def rockClimbingWall(self,wall):\n",
    "        if self.wall.lower() == 'you':\n",
    "            return 'rock on, climber!'\n",
    "        else:\n",
    "            return ' why on earth would you not want a rock climbing wall in your house?'\n",
    "\n",
    "brandon_house = House('yes', 'dirty')\n",
    "\n",
    "\n",
    "brandon_house.washDishes()\n",
    "brandon_house.rockClimbingWall('Yes')\n",
    "        "
   ]
  },
  {
   "cell_type": "markdown",
   "metadata": {},
   "source": [
    "## Class Attributes <br>\n",
    "<p>While variables are inside of a class, they are referred to as attributes and not variables. When someone says 'attribute' you know they're speaking about a class. Attributes can be initialized through the init method, or outside of it.</p>"
   ]
  },
  {
   "cell_type": "markdown",
   "metadata": {},
   "source": [
    "##### Initializing Attributes"
   ]
  },
  {
   "cell_type": "code",
   "execution_count": 4,
   "metadata": {},
   "outputs": [
    {
     "ename": "NameError",
     "evalue": "name 'doors' is not defined",
     "output_type": "error",
     "traceback": [
      "\u001b[1;31m---------------------------------------------------------------------------\u001b[0m",
      "\u001b[1;31mNameError\u001b[0m                                 Traceback (most recent call last)",
      "Input \u001b[1;32mIn [4]\u001b[0m, in \u001b[0;36m<cell line: 7>\u001b[1;34m()\u001b[0m\n\u001b[0;32m      4\u001b[0m         \u001b[38;5;28mself\u001b[39m\u001b[38;5;241m.\u001b[39mdoors \u001b[38;5;241m=\u001b[39m doors\n\u001b[0;32m      5\u001b[0m         \u001b[38;5;28mself\u001b[39m\u001b[38;5;241m.\u001b[39mseats \u001b[38;5;241m=\u001b[39m seats\n\u001b[1;32m----> 7\u001b[0m toyota \u001b[38;5;241m=\u001b[39m \u001b[43mCar\u001b[49m\u001b[43m(\u001b[49m\u001b[38;5;241;43m2\u001b[39;49m\u001b[43m,\u001b[49m\u001b[38;5;241;43m2\u001b[39;49m\u001b[43m)\u001b[49m\n\u001b[0;32m      8\u001b[0m porche \u001b[38;5;241m=\u001b[39m Car(\u001b[38;5;241m4\u001b[39m)\n\u001b[0;32m     10\u001b[0m \u001b[38;5;28mprint\u001b[39m(\u001b[38;5;124mf\u001b[39m\u001b[38;5;124m'\u001b[39m\u001b[38;5;124mtoyota seats:\u001b[39m\u001b[38;5;132;01m{\u001b[39;00mtoyota\u001b[38;5;241m.\u001b[39mseats\u001b[38;5;132;01m}\u001b[39;00m\u001b[38;5;124m and Toyota doors: \u001b[39m\u001b[38;5;132;01m{\u001b[39;00mtoyota\u001b[38;5;241m.\u001b[39mdoors\u001b[38;5;132;01m}\u001b[39;00m\u001b[38;5;124m'\u001b[39m)\n",
      "Input \u001b[1;32mIn [4]\u001b[0m, in \u001b[0;36mCar.__init__\u001b[1;34m(self, doords, seats)\u001b[0m\n\u001b[0;32m      3\u001b[0m \u001b[38;5;28;01mdef\u001b[39;00m \u001b[38;5;21m__init__\u001b[39m (\u001b[38;5;28mself\u001b[39m, doords, seats \u001b[38;5;241m=\u001b[39m \u001b[38;5;241m4\u001b[39m):\n\u001b[1;32m----> 4\u001b[0m     \u001b[38;5;28mself\u001b[39m\u001b[38;5;241m.\u001b[39mdoors \u001b[38;5;241m=\u001b[39m \u001b[43mdoors\u001b[49m\n\u001b[0;32m      5\u001b[0m     \u001b[38;5;28mself\u001b[39m\u001b[38;5;241m.\u001b[39mseats \u001b[38;5;241m=\u001b[39m seats\n",
      "\u001b[1;31mNameError\u001b[0m: name 'doors' is not defined"
     ]
    }
   ],
   "source": [
    "class Toy():\n",
    "    kind = 'car' #Constant\n",
    "    \n",
    "    def __init__ (self, rooftop, horn, wheels):\n",
    "        self.rooftop = rooftop #these are attributes\n",
    "        self.horn = horn\n",
    "        self.wheels = wheels\n",
    "        \n",
    "tonka_truck = Toy (1,1,4) # 1 rooftop 1 horn 4 wheels\n",
    "hotwheels_car = Toy(2,3,8) # 2 rooftops , 3 horns , 8 wheels"
   ]
  },
  {
   "cell_type": "markdown",
   "metadata": {},
   "source": [
    "##### Accessing Class Attributes"
   ]
  },
  {
   "cell_type": "code",
   "execution_count": 10,
   "metadata": {
    "scrolled": true
   },
   "outputs": [
    {
     "data": {
      "text/plain": [
       "8"
      ]
     },
     "execution_count": 10,
     "metadata": {},
     "output_type": "execute_result"
    }
   ],
   "source": [
    "tonka_truck.rooftop\n",
    "hotwheels_car.wheels"
   ]
  },
  {
   "cell_type": "markdown",
   "metadata": {},
   "source": [
    "##### Setting Defaults for Attributes"
   ]
  },
  {
   "cell_type": "code",
   "execution_count": 11,
   "metadata": {},
   "outputs": [
    {
     "data": {
      "text/plain": [
       "'blue'"
      ]
     },
     "execution_count": 11,
     "metadata": {},
     "output_type": "execute_result"
    }
   ],
   "source": [
    "class Car ():\n",
    "    engine = '4.7L'\n",
    "    \n",
    "    def __init__ (self,wheels):\n",
    "        self.wheels = wheels\n",
    "        self.color =  'blue'\n",
    "        \n",
    "honda = Car(4)\n",
    "honda.color\n",
    "        "
   ]
  },
  {
   "cell_type": "markdown",
   "metadata": {},
   "source": [
    "##### Changing Class Attributes <br>\n",
    "<p>Keep in mind there are global class attributes and then there are attributes only available to each class instance which won't effect other classes.</p>"
   ]
  },
  {
   "cell_type": "code",
   "execution_count": 15,
   "metadata": {},
   "outputs": [
    {
     "name": "stdout",
     "output_type": "stream",
     "text": [
      "before changes:(jeep.color)\n",
      "\n",
      "After Change:(jeep.color)\n"
     ]
    }
   ],
   "source": [
    "jeep = Car(8)\n",
    "\n",
    "print(f'before changes:(jeep.color)')\n",
    "      \n",
    "jeep.color = 'white'\n",
    "    \n",
    "print (f'\\nAfter Change:(jeep.color)')"
   ]
  },
  {
   "cell_type": "code",
   "execution_count": 18,
   "metadata": {
    "scrolled": true
   },
   "outputs": [
    {
     "name": "stdout",
     "output_type": "stream",
     "text": [
      "200\n",
      "After The Change:  210lb\n"
     ]
    }
   ],
   "source": [
    "print(joel.weight)\n",
    "joel.weight = \"210lb\"\n",
    "\n",
    "print(\"After The Change: \", joel.weight)"
   ]
  },
  {
   "cell_type": "markdown",
   "metadata": {},
   "source": [
    "##### In-Class Exercise #2 - Add a doors and seats attribute to your 'Car' class then print out two different instances with different doors and seats"
   ]
  },
  {
   "cell_type": "code",
   "execution_count": 7,
   "metadata": {},
   "outputs": [
    {
     "name": "stdout",
     "output_type": "stream",
     "text": [
      "toyota seats: 2 and Toyota doors: 2\n",
      "Porche seats: 4 and Porche doors 4\n"
     ]
    }
   ],
   "source": [
    "class Car():\n",
    "    \n",
    "    def __init__ (self, doors, seats = 4):\n",
    "        self.doors = doors\n",
    "        self.seats = seats\n",
    "        \n",
    "toyota = Car(2,2)\n",
    "porche = Car(4)\n",
    "\n",
    "print(f'toyota seats: {toyota.seats} and Toyota doors: {toyota.doors}')\n",
    "print(f'Porche seats: {porche.seats} and Porche doors {porche.doors}')\n",
    "\n"
   ]
  },
  {
   "cell_type": "markdown",
   "metadata": {},
   "source": [
    "## Class Methods <br>\n",
    "<p>While inside of a class, functions are referred to as 'methods'. If you hear someone mention methods, they're speaking about classes. Methods are essentially functions, but only callable on the instances of a class.</p>"
   ]
  },
  {
   "cell_type": "code",
   "execution_count": null,
   "metadata": {},
   "outputs": [],
   "source": []
  },
  {
   "cell_type": "code",
   "execution_count": 16,
   "metadata": {},
   "outputs": [],
   "source": [
    "class ShoppingBag ():\n",
    "    '''\n",
    "        The shopping bag class will have handles, capacity, and items to place\n",
    "        inside the bag.\n",
    "        \n",
    "        Attributes for the class:\n",
    "        -handles: expected to be an interger\n",
    "        - capacity expected to be a string OR an integer\n",
    "        - items: expected to be a list\n",
    "    '''\n",
    "    \n",
    "    def __init__ (self, handles, capacity, items):\n",
    "        self.handles = self\n",
    "        self.capacity = capacity\n",
    "        self.items = items\n",
    "        \n",
    "        # write a method that shows the items in the shopping bag/ this is our items list\n",
    "        \n",
    "    def showShoppingBag(self):\n",
    "        print('You have items in your bag:')\n",
    "        for item in self.items:\n",
    "            print(item)\n",
    "                \n",
    "        #show the capacity of bag/ what room is left\n",
    "        \n",
    "    def showCapacity(self):\n",
    "        print(f'Your capacity is:{self.capacity}')\n",
    "            \n",
    "        # add items to the item list for the shopping bag\n",
    "        \n",
    "    def addToShoppingBag(self):\n",
    "        products = input('what woud you like to add? ')\n",
    "        self.items.append(products)\n",
    "            \n",
    "        # change the capacity of shoppingBag\n",
    "        \n",
    "    def changeBagCapacity(self, capacity):\n",
    "        self.capacity = capacity\n",
    "        \n",
    "        # increase the capacity of the shoppingBag to a default  amount of 10\n",
    "    def increaseCapacity(self, changed_capacity = 10):\n",
    "        if self.capacity == isinstance(self.capacity, str):\n",
    "            print(\"We can't add that here\")\n",
    "        else:\n",
    "            self.capacity += changed_capacity\n",
    "        "
   ]
  },
  {
   "cell_type": "markdown",
   "metadata": {},
   "source": [
    "##### Creating"
   ]
  },
  {
   "cell_type": "code",
   "execution_count": null,
   "metadata": {},
   "outputs": [],
   "source": []
  },
  {
   "cell_type": "markdown",
   "metadata": {},
   "source": [
    "##### Calling"
   ]
  },
  {
   "cell_type": "code",
   "execution_count": 18,
   "metadata": {},
   "outputs": [
    {
     "name": "stdout",
     "output_type": "stream",
     "text": [
      "What do you want to do? add/show/quit add\n",
      "what woud you like to add? grapes\n",
      "What do you want to do? add/show/quit add\n",
      "what woud you like to add? lacroix\n",
      "What do you want to do? add/show/quit add\n",
      "what woud you like to add? books\n",
      "What do you want to do? add/show/quit show\n",
      "You have items in your bag:\n",
      "grapes\n",
      "lacroix\n",
      "books\n",
      "What do you want to do? add/show/quit add\n",
      "what woud you like to add? bananna\n",
      "What do you want to do? add/show/quit add\n",
      "what woud you like to add? waffles\n",
      "What do you want to do? add/show/quit show\n",
      "You have items in your bag:\n",
      "grapes\n",
      "lacroix\n",
      "books\n",
      "bananna\n",
      "waffles\n",
      "What do you want to do? add/show/quit quit\n",
      "You have items in your bag:\n",
      "grapes\n",
      "lacroix\n",
      "books\n",
      "bananna\n",
      "waffles\n",
      "Thanks for shopping!\n"
     ]
    }
   ],
   "source": [
    "#so far we created the idea od the shopping bag now we actually instantiate it and make one and use it!\n",
    "wholeFoods_bag = ShoppingBag (2,10,[])\n",
    "\n",
    "#create a function to run the shopping bag method on our whole foods bag\n",
    "def run():\n",
    "    while True:\n",
    "        response = input('What do you want to do? add/show/quit ')\n",
    "        \n",
    "        if response.lower() == 'quit':\n",
    "            wholeFoods_bag.showShoppingBag()\n",
    "            print('Thanks for shopping!')\n",
    "            break\n",
    "        elif response.lower() == 'add':\n",
    "            wholeFoods_bag.addToShoppingBag()\n",
    "        elif response.lower() == 'show':\n",
    "            wholeFoods_bag.showShoppingBag()\n",
    "        else:\n",
    "            print('Try another command')\n",
    "run()"
   ]
  },
  {
   "cell_type": "markdown",
   "metadata": {},
   "source": [
    "##### Modifying an Attribute's Value Through a Method"
   ]
  },
  {
   "cell_type": "code",
   "execution_count": 21,
   "metadata": {},
   "outputs": [
    {
     "name": "stdout",
     "output_type": "stream",
     "text": [
      "Your capacity is:40\n",
      "Capacity after the change ...\n",
      "Your capacity is:45\n"
     ]
    }
   ],
   "source": [
    "#show the Capacity\n",
    "wholeFoods_bag.showCapacity()\n",
    "print ('Capacity after the change ...')\n",
    "wholeFoods_bag.changeBagCapacity(45)\n",
    "wholeFoods_bag.showCapacity()"
   ]
  },
  {
   "cell_type": "markdown",
   "metadata": {},
   "source": [
    "##### Incrementing an Attribute's Value Through a Method"
   ]
  },
  {
   "cell_type": "code",
   "execution_count": 22,
   "metadata": {},
   "outputs": [
    {
     "name": "stdout",
     "output_type": "stream",
     "text": [
      "Your capacity is:45\n",
      "After increase...\n",
      "Your capacity is:55\n"
     ]
    }
   ],
   "source": [
    "wholeFoods_bag.showCapacity()\n",
    "print('After increase...')\n",
    "wholeFoods_bag.increaseCapacity()\n",
    "wholeFoods_bag.showCapacity()"
   ]
  },
  {
   "cell_type": "markdown",
   "metadata": {},
   "source": [
    "##### In-Class Exercise #3 - Add a method that takes in three parameters of year, doors and seats and prints out a formatted print statement with make, model, year, seats, and doors"
   ]
  },
  {
   "cell_type": "code",
   "execution_count": 28,
   "metadata": {},
   "outputs": [
    {
     "name": "stdout",
     "output_type": "stream",
     "text": [
      "What year do you like? 2020\n",
      "This car is from 2020 and is a Ford Expolorer and has 4 doors and 5 seats\n"
     ]
    },
    {
     "data": {
      "text/plain": [
       "'2020'"
      ]
     },
     "execution_count": 28,
     "metadata": {},
     "output_type": "execute_result"
    }
   ],
   "source": [
    "# Create class with 2 paramters inside of the __init__ which are make and model\n",
    "\n",
    "# Inside of the Car class create a method that has 4 parameter in total (self,year,door,seats)\n",
    "\n",
    "# Output: This car is from 2019 and is a Ford Expolorer and has 4 doors and 5 seats\n",
    "\n",
    "\n",
    "class Car():\n",
    "    \n",
    "    \"\"\"\n",
    "        Car Object requires 2 arguments to be passed at \n",
    "        Object instatiation which are make and model\n",
    "    \"\"\"\n",
    "    def __init__(self, make, model):\n",
    "        \"\"\"\n",
    "            This constuctor will create a make and model based on\n",
    "            the passed arguments which are expected to be strings \n",
    "            for both make and model\n",
    "        \"\"\"\n",
    "        self.make = make\n",
    "        self.model = model\n",
    "        \n",
    "    def printInfo(self,year, doors, seats):\n",
    "        self.year = year\n",
    "        print(f\"This car is from {year} and is a {self.make} {self.model} and has {doors} doors and {seats} seats\")\n",
    "\n",
    "year = input(\"What year do you like? \")\n",
    "\n",
    "ford = Car(\"Ford\", \"Expolorer\")\n",
    "ford.printInfo(year,4,5)\n",
    "ford.year\n"
   ]
  },
  {
   "cell_type": "markdown",
   "metadata": {},
   "source": [
    "## Inheritance <br>\n",
    "<p>You can create a child-parent relationship between two classes by using inheritance. What this allows you to do is have overriding methods, but also inherit traits from the parent class. Think of it as an actual parent and child, the child will inherit the parent's genes, as will the classes in OOP</p>"
   ]
  },
  {
   "cell_type": "markdown",
   "metadata": {},
   "source": [
    "##### Syntax for Inheriting from a Parent Class"
   ]
  },
  {
   "cell_type": "code",
   "execution_count": 28,
   "metadata": {},
   "outputs": [
    {
     "name": "stdout",
     "output_type": "stream",
     "text": [
      "Bark\n",
      "Make some generic sound\n",
      "None\n",
      "9.8\n",
      "15\n"
     ]
    }
   ],
   "source": [
    "#create a parent class\n",
    "class Animal():\n",
    "    acceleration = 9.8\n",
    "    \n",
    "    def __init__ (self, name, species, legs = 4):\n",
    "        self.name = name\n",
    "        self.species = species\n",
    "        self.legs = legs\n",
    "        \n",
    "    #generic Parent method not overwriting anything\n",
    "    \n",
    "    def makeSound(self):\n",
    "        print('Make some generic sound')\n",
    "        \n",
    " #child class\n",
    "    \n",
    "class Dog(Animal):\n",
    "    speed =15\n",
    "    \n",
    "    def printInfo(self):\n",
    "        print (f'The Dog has {self.speed}mph is speed and {self.acceleration}')\n",
    "\n",
    "        \n",
    "#creation of grandchild class -- Mutt\n",
    "\n",
    "class Mutt(Dog):\n",
    "    color = 'Tan'\n",
    "    \n",
    "    #override animal class using dog class to overwrite the __init__ from animal\n",
    "    \n",
    "    def __init__ (self, name, species, eye_color, legs = 4):\n",
    "        Dog.__init__ (self,name,species,legs)\n",
    "        self.eye_color = eye_color\n",
    "        \n",
    "    \n",
    "    #overrride make sound method (from Animal)\n",
    "    \n",
    "    def makeSound(self):\n",
    "        noise = 'Bark'\n",
    "        return noise\n",
    "\n",
    "    \n",
    "    \n",
    "lassie = Dog('Lassie','Dog')    \n",
    "basic_animal = Animal('Generic Animal Name', 'Generic Animal Species')\n",
    "buster = Mutt('Buster', 'Mutt', 'Brown') \n",
    "\n",
    "print(buster.makeSound())\n",
    "print(lassie.makeSound())\n",
    "print(buster.acceleration)\n",
    "print(buster.speed)"
   ]
  },
  {
   "cell_type": "code",
   "execution_count": 29,
   "metadata": {},
   "outputs": [],
   "source": [
    "# # class Animal():\n",
    "#     acceleration = 9.8\n",
    "    \n",
    "#     def __init__(self,name,species,legs = 4):\n",
    "#         self.name = name\n",
    "#         self.species = species\n",
    "#         self.legs = legs\n",
    "        \n",
    "#     def makeSound(self):\n",
    "#         print(\"Some Generic Sound\")\n",
    "\n",
    "# # Inheritence without override\n",
    "# class Dog(Animal):\n",
    "#     speed = 15\n",
    "    \n",
    "#     def printInfo(self):\n",
    "#         print(f\"This Dog is {self.name}\")\n",
    "        \n",
    "# # Inheritence WITH override        \n",
    "# class Cat(Animal):\n",
    "#     eye_color = 'brown'\n",
    "    \n",
    "#     def __init__(self,name,species,color,legs = 4):\n",
    "#         Animal.__init__(self,name,species,legs)\n",
    "#         self.color = color\n",
    "        \n",
    "#     # Method Overriding\n",
    "#     def makeSound(self):\n",
    "#         print(\"Purr\")\n",
    "        \n",
    "# # help(Dog)\n",
    "\n",
    "# # lassie = Dog('lassie','Dog')\n",
    "# # lassie.printInfo()\n",
    "\n",
    "# # help(Cat)\n",
    "\n",
    "# generic_animal = Animal('Generic',\"Random_Species\")\n",
    "\n",
    "# print(generic_animal.makeSound())\n",
    "\n",
    "# garfield = Cat('Garfield','Cat','Orange')\n",
    "# garfield.name\n",
    "# garfield.eye_color\n",
    "# print(garfield.makeSound())"
   ]
  },
  {
   "cell_type": "markdown",
   "metadata": {},
   "source": [
    "##### The \\__init\\__() Method for a Child Class - super()"
   ]
  },
  {
   "cell_type": "code",
   "execution_count": 31,
   "metadata": {
    "scrolled": true
   },
   "outputs": [
    {
     "name": "stdout",
     "output_type": "stream",
     "text": [
      "Bark\n",
      "Make some generic sound\n",
      "None\n",
      "9.8\n",
      "15\n"
     ]
    }
   ],
   "source": [
    "class Puppy(Dog):\n",
    "    color= 'black and brown'\n",
    "    \n",
    "#overrride the animal class __init__ (via Dog class)\n",
    "\n",
    "    def __init_ (self,name,species, eye_color, legs = 4 ):\n",
    "        super().__init__ (name, species, legs)\n",
    "        self.eye_color = eye_color\n",
    "        \n",
    "# override make sound method\n",
    "    def makeSound(self):\n",
    "        noise = 'Bark'\n",
    "        return noise\n",
    "\n",
    "    \n",
    "lassie = Dog('Lassie','Dog')    \n",
    "basic_animal = Animal('Generic Animal Name', 'Generic Animal Species')\n",
    "buster = Mutt('Buster', 'Mutt', 'Brown') \n",
    "\n",
    "print(buster.makeSound())\n",
    "print(lassie.makeSound())\n",
    "print(buster.acceleration)\n",
    "print(buster.speed)"
   ]
  },
  {
   "cell_type": "markdown",
   "metadata": {},
   "source": [
    "### Multiple Inheritence"
   ]
  },
  {
   "cell_type": "code",
   "execution_count": 59,
   "metadata": {},
   "outputs": [
    {
     "name": "stdout",
     "output_type": "stream",
     "text": [
      "Help on class Bird in module __main__:\n",
      "\n",
      "class Bird(Cat, Animal)\n",
      " |  Bird(name, species, color, legs=4)\n",
      " |  \n",
      " |  Method resolution order:\n",
      " |      Bird\n",
      " |      Cat\n",
      " |      Animal\n",
      " |      builtins.object\n",
      " |  \n",
      " |  Methods defined here:\n",
      " |  \n",
      " |  __init__(self, name, species, color, legs=4)\n",
      " |      Initialize self.  See help(type(self)) for accurate signature.\n",
      " |  \n",
      " |  printInfo(self)\n",
      " |  \n",
      " |  ----------------------------------------------------------------------\n",
      " |  Data and other attributes defined here:\n",
      " |  \n",
      " |  speed = '25mph'\n",
      " |  \n",
      " |  ----------------------------------------------------------------------\n",
      " |  Methods inherited from Cat:\n",
      " |  \n",
      " |  makeSound(self)\n",
      " |      # Method Overriding\n",
      " |  \n",
      " |  ----------------------------------------------------------------------\n",
      " |  Data and other attributes inherited from Cat:\n",
      " |  \n",
      " |  eye_color = 'brown'\n",
      " |  \n",
      " |  ----------------------------------------------------------------------\n",
      " |  Data descriptors inherited from Animal:\n",
      " |  \n",
      " |  __dict__\n",
      " |      dictionary for instance variables (if defined)\n",
      " |  \n",
      " |  __weakref__\n",
      " |      list of weak references to the object (if defined)\n",
      " |  \n",
      " |  ----------------------------------------------------------------------\n",
      " |  Data and other attributes inherited from Animal:\n",
      " |  \n",
      " |  acceleration = 9.8\n",
      "\n",
      "This Bird is Red\n"
     ]
    }
   ],
   "source": [
    "class Bird(Cat,Animal):\n",
    "    speed = \"25mph\"\n",
    "    \n",
    "    def __init__(self,name,species,color,legs = 4):\n",
    "        super().__init__(name,species,color,legs)\n",
    "        self.color = color\n",
    "        \n",
    "    def printInfo(self):\n",
    "        print(f\"This Bird is {self.color}\")\n",
    "\n",
    "help(Bird)\n",
    "polly = Bird(\"polly\",\"Bird\",\"Red\")\n",
    "polly.printInfo()"
   ]
  },
  {
   "cell_type": "markdown",
   "metadata": {},
   "source": [
    "##### Defining Attributes and Methods for the Child Class"
   ]
  },
  {
   "cell_type": "code",
   "execution_count": null,
   "metadata": {},
   "outputs": [],
   "source": [
    "# See Above"
   ]
  },
  {
   "cell_type": "markdown",
   "metadata": {},
   "source": [
    "##### Method Overriding"
   ]
  },
  {
   "cell_type": "code",
   "execution_count": null,
   "metadata": {},
   "outputs": [],
   "source": [
    "# See Above"
   ]
  },
  {
   "cell_type": "markdown",
   "metadata": {},
   "source": [
    "## Classes as Attributes <br>\n",
    "<p>Classes can also be used as attributes within another class. This is useful in situations where you need to keep variables locally stored, instead of globally stored.</p>"
   ]
  },
  {
   "cell_type": "code",
   "execution_count": 35,
   "metadata": {},
   "outputs": [
    {
     "name": "stdout",
     "output_type": "stream",
     "text": [
      "20\n"
     ]
    },
    {
     "data": {
      "text/plain": [
       "'2019 Tesla Model X 20'"
      ]
     },
     "execution_count": 35,
     "metadata": {},
     "output_type": "execute_result"
    }
   ],
   "source": [
    "class Battery():\n",
    "    volts = 7.8\n",
    "    \n",
    "    def __init__ (self,cells): \n",
    "        self.cells= cells\n",
    "        \n",
    "class Car():\n",
    "    def __init__(self, year, make, model, battery):\n",
    "        self.year = year\n",
    "        self.make = make\n",
    "        self.model = model\n",
    "        self.battery = battery\n",
    "    \n",
    "    def printInfo(self):\n",
    "        return f'{self.year} {self.make} {self.model} {self.battery.cells}'\n",
    "    \n",
    "my_battery = Battery(20)\n",
    "\n",
    "tesla = Car(2019, 'Tesla', 'Model X', my_battery)\n",
    "\n",
    "print(tesla.battery.cells)\n",
    "tesla.printInfo()\n",
    "\n"
   ]
  },
  {
   "cell_type": "markdown",
   "metadata": {},
   "source": [
    "# Exercises"
   ]
  },
  {
   "cell_type": "markdown",
   "metadata": {},
   "source": [
    "### Exercise 1 - Turn the shopping cart program from yesterday into an object-oriented program\n",
    "\n",
    "The comments in the cell below are there as a guide for thinking about the problem. However, if you feel a different way is best for you and your own thought process, please do what feels best for you by all means."
   ]
  },
  {
   "cell_type": "code",
   "execution_count": null,
   "metadata": {},
   "outputs": [],
   "source": [
    "# Create a class called cart that retains items and has methods to add, remove, and show\n",
    "\n",
    "class Cart():\n",
    "    \n",
    "    def __init__ (self, items,):\n",
    "        self.items = items\n",
    "   \n",
    "    # Add to Cart \n",
    "    \n",
    "    def addToCart(self):\n",
    "        stuff = input('What do you want to add to the cart? : ')\n",
    "        self.items.append(stuff)\n",
    "        \n",
    "    # remove from cart\n",
    "     \n",
    "    def removeFromCart(self):\n",
    "        gone = input('What would you like to remove? : ')\n",
    "        self.items.remove(gone)\n",
    "        \n",
    "    # Show what is in the cart\n",
    "    \n",
    "    def showItemsInCart(self):\n",
    "        print('Your shopping list : ')\n",
    "        for items in self.items:\n",
    "            print(item)\n",
    "    "
   ]
  },
  {
   "cell_type": "markdown",
   "metadata": {},
   "source": [
    "### Exercise 2 - Create a class 'Ford' that inherits from 'Car' class and initialize it as a Blue Ford Explorer with 4 wheels using the super() method, add a method to car which prints 'this is a car' and create an overriding method in class Ford that prints the information on the car"
   ]
  },
  {
   "cell_type": "code",
   "execution_count": 5,
   "metadata": {},
   "outputs": [],
   "source": [
    "# Create Parent Class called Car - That will be inherited by child Class called Ford\n",
    "# Add a method to the Car class that prints \"This is a car\"\n",
    "# Inside of the Child Class initialize the the inherited info using super()\n",
    "# Override the above method with the information of the Ford Car\n",
    "\n",
    "class Car:\n",
    "    def __init__ (self, engine, doors, windows = 8):\n",
    "        self.engine = engine\n",
    "        self.doors = doors\n",
    "        self.windows = windows\n",
    "    \n",
    "    def aCar(self):\n",
    "        print('This is a car!')\n",
    "        \n",
    "    def carInfo (self):\n",
    "        return (f' This car has a {self.engine} engine, {self.doors} doors and {self.windows} windows')\n",
    "\n",
    "\n",
    "class Ford(Car):\n",
    "    \n",
    "    def __init__ (self, engine, doors, windows = 12):\n",
    "        super().__init__ (make, model, windows = 7)\n",
    "        self.color = color\n",
    "        self.make = make\n",
    "        self.model = model\n",
    "        \n",
    "    def printCarInfo(self):\n",
    "        print(f'The car make is {self.make}')\n",
    "        \n"
   ]
  }
 ],
 "metadata": {
  "kernelspec": {
   "display_name": "Python 3 (ipykernel)",
   "language": "python",
   "name": "python3"
  },
  "language_info": {
   "codemirror_mode": {
    "name": "ipython",
    "version": 3
   },
   "file_extension": ".py",
   "mimetype": "text/x-python",
   "name": "python",
   "nbconvert_exporter": "python",
   "pygments_lexer": "ipython3",
   "version": "3.9.12"
  }
 },
 "nbformat": 4,
 "nbformat_minor": 2
}
